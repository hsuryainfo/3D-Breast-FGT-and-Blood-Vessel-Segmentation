{
 "cells": [
  {
   "cell_type": "code",
   "execution_count": 1,
   "metadata": {},
   "outputs": [],
   "source": [
    "#first let us import the necessary modules\n",
    "\n",
    "import matplotlib.pyplot as plt\n",
    "from preprocessing import *\n",
    "from ispy_utils import *\n",
    "import numpy as np"
   ]
  },
  {
   "cell_type": "code",
   "execution_count": 2,
   "metadata": {},
   "outputs": [],
   "source": [
    "#setting file paths\n",
    "\n",
    "#precontrast image path\n",
    "file_pre ='ispy_data/in/manifest-1724022411242/ISPY2/ISPY2-100899/10-26-2002-100899T0-ISPY2MRIT0-88595/500.000000-ISPY2 AX VIBRANT-SERIES-52523'\n",
    "\n",
    "#postcontrast image path\n",
    "file_post = 'ispy_data/in/manifest-1724022411242/ISPY2/ISPY2-100899/10-26-2002-100899T0-ISPY2MRIT0-88595/501.000000-ISPY2 Ph1AX VIBRANT-SERIES-03969'\n",
    "\n"
   ]
  },
  {
   "cell_type": "code",
   "execution_count": 3,
   "metadata": {},
   "outputs": [
    {
     "ename": "NameError",
     "evalue": "name 'read_precontrast_mri_ispy' is not defined",
     "output_type": "error",
     "traceback": [
      "\u001b[1;31m---------------------------------------------------------------------------\u001b[0m",
      "\u001b[1;31mNameError\u001b[0m                                 Traceback (most recent call last)",
      "Cell \u001b[1;32mIn[3], line 2\u001b[0m\n\u001b[0;32m      1\u001b[0m \u001b[38;5;66;03m#apply function from ispymri.py \u001b[39;00m\n\u001b[1;32m----> 2\u001b[0m image_array_pre, dcm_data_pre \u001b[38;5;241m=\u001b[39m \u001b[43mread_precontrast_mri_ispy\u001b[49m(file_pre)\n\u001b[0;32m      3\u001b[0m image_array_pre \u001b[38;5;241m=\u001b[39m zscore_image(normalize_image(image_array_pre))\n\u001b[0;32m      4\u001b[0m \u001b[38;5;66;03m# saving image - will be used as an input to prediction code\u001b[39;00m\n",
      "\u001b[1;31mNameError\u001b[0m: name 'read_precontrast_mri_ispy' is not defined"
     ]
    }
   ],
   "source": [
    "#apply function from ispymri.py \n",
    "image_array_pre, dcm_data_pre = read_precontrast_mri_ispy(file_pre)\n",
    "image_array_pre = zscore_image(normalize_image(image_array_pre))\n",
    "# saving image - will be used as an input to prediction code\n",
    "np.save('./input_pre/output.npy', image_array_pre)\n",
    "print(image_array_pre.shape)  #optional\n",
    "\n",
    "image_array_post, dcm_data_post = read_precontrast_mri_ispy(file_post)\n",
    "image_array_post = zscore_image(normalize_image(image_array_post))\n",
    "np.save('./inputpost/output.npy', image_array_post)"
   ]
  },
  {
   "cell_type": "code",
   "execution_count": 39,
   "metadata": {},
   "outputs": [
    {
     "ename": "NameError",
     "evalue": "name 'read_precontrast_mri_ispy' is not defined",
     "output_type": "error",
     "traceback": [
      "\u001b[1;31m---------------------------------------------------------------------------\u001b[0m",
      "\u001b[1;31mNameError\u001b[0m                                 Traceback (most recent call last)",
      "Cell \u001b[1;32mIn[39], line 9\u001b[0m\n\u001b[0;32m      6\u001b[0m \u001b[38;5;66;03m#location of downloaded pre-contrast dicom file\u001b[39;00m\n\u001b[0;32m      7\u001b[0m file_pre \u001b[38;5;241m=\u001b[39m\u001b[38;5;124m'\u001b[39m\u001b[38;5;124mispy_data/in/manifest-1724022411242/ISPY2/ISPY2-100899/10-26-2002-100899T0-ISPY2MRIT0-88595/500.000000-ISPY2 AX VIBRANT-SERIES-52523\u001b[39m\u001b[38;5;124m'\u001b[39m\n\u001b[1;32m----> 9\u001b[0m image_array_pre, dcm_data_pre \u001b[38;5;241m=\u001b[39m \u001b[43mread_precontrast_mri_ispy\u001b[49m(file_pre)\n\u001b[0;32m     10\u001b[0m image_array_pre \u001b[38;5;241m=\u001b[39m zscore_image(normalize_image(image_array_pre))\n\u001b[0;32m     11\u001b[0m \u001b[38;5;66;03m#The saved image array shall be used as an input to the prediction code to generate the breast segmentation mask\u001b[39;00m\n",
      "\u001b[1;31mNameError\u001b[0m: name 'read_precontrast_mri_ispy' is not defined"
     ]
    }
   ],
   "source": [
    "import matplotlib.pyplot as plt\n",
    "#from preprocessing import *\n",
    "from ispy_utils import *\n",
    "\n",
    " \n",
    "#location of downloaded pre-contrast dicom file\n",
    "file_pre ='ispy_data/in/manifest-1724022411242/ISPY2/ISPY2-100899/10-26-2002-100899T0-ISPY2MRIT0-88595/500.000000-ISPY2 AX VIBRANT-SERIES-52523'\n",
    "\n",
    "image_array_pre, dcm_data_pre = read_precontrast_mri_ispy(file_pre)\n",
    "image_array_pre = zscore_image(normalize_image(image_array_pre))\n",
    "#The saved image array shall be used as an input to the prediction code to generate the breast segmentation mask\n",
    "np.save('./inputpre/output.npy', image_array_pre)\n",
    "print(image_array_pre.shape)\n",
    "\n",
    "plt.subplot(1, 2, 1)\n",
    "plt.title('MRI Pre Volume')\n",
    "plt.imshow(image_array_pre[:, :, 41], cmap='gray')\n",
    "plt.axis('off')\n",
    "\n",
    "#location of downloaded post-contrast dicom file\n",
    "file_post = 'ispy_data/in/manifest-1724022411242/ISPY2/ISPY2-100899/10-26-2002-100899T0-ISPY2MRIT0-88595/501.000000-ISPY2 Ph1AX VIBRANT-SERIES-03969'\n",
    "image_array_post, dcm_data_post = read_precontrast_mri_ispy(file_post)\n",
    "image_array_post = zscore_image(normalize_image(image_array_post))\n",
    "np.save('./inputpost/output.npy', image_array_post)\n",
    "\n",
    "\n",
    "plt.subplot(1, 2, 2)\n",
    "plt.title('MRI Post Volume')\n",
    "plt.imshow(image_array_post[:, :, 41], cmap='gray')\n",
    "plt.axis('off')"
   ]
  }
 ],
 "metadata": {
  "kernelspec": {
   "display_name": "Python 3",
   "language": "python",
   "name": "python3"
  },
  "language_info": {
   "codemirror_mode": {
    "name": "ipython",
    "version": 3
   },
   "file_extension": ".py",
   "mimetype": "text/x-python",
   "name": "python",
   "nbconvert_exporter": "python",
   "pygments_lexer": "ipython3",
   "version": "3.11.8"
  }
 },
 "nbformat": 4,
 "nbformat_minor": 2
}
